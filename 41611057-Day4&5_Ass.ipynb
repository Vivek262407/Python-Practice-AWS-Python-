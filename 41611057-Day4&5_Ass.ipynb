{
 "cells": [
  {
   "cell_type": "code",
   "execution_count": 1,
   "id": "932a423f",
   "metadata": {},
   "outputs": [],
   "source": [
    "# Original List\n",
    "a = [2, 4, 6, 8, 10]\n"
   ]
  },
  {
   "cell_type": "code",
   "execution_count": 2,
   "id": "348f57b4",
   "metadata": {},
   "outputs": [
    {
     "name": "stdout",
     "output_type": "stream",
     "text": [
      "[2, 4, 6, 8, 10, 12, 14, 16, 18, 20]\n"
     ]
    }
   ],
   "source": [
    "# Add [12, 14, 16, 18, 20] to the original list\n",
    "a += [12, 14, 16, 18, 20]\n",
    "print(a)"
   ]
  },
  {
   "cell_type": "code",
   "execution_count": 3,
   "id": "c5097af3",
   "metadata": {},
   "outputs": [
    {
     "name": "stdout",
     "output_type": "stream",
     "text": [
      "[-20, -18, -16, -14, -12, -10, -8, -6, -4, -2, 0]\n"
     ]
    }
   ],
   "source": [
    "# Generate a new list with reversed and negated elements, then add 0 to the end\n",
    "a = [-i for i in a][::-1] + [0]\n",
    "print(a)"
   ]
  },
  {
   "cell_type": "code",
   "execution_count": 4,
   "id": "62d05bed",
   "metadata": {},
   "outputs": [
    {
     "name": "stdout",
     "output_type": "stream",
     "text": [
      "[-18, -16, -14, -12, -10, -8, -6, -4, -2, 0]\n"
     ]
    }
   ],
   "source": [
    "# Slice the original list to exclude the first element\n",
    "a = a[1:]\n",
    "print(a)"
   ]
  },
  {
   "cell_type": "code",
   "execution_count": 5,
   "id": "f1162f0f",
   "metadata": {},
   "outputs": [
    {
     "name": "stdout",
     "output_type": "stream",
     "text": [
      "Uppercase: VINAY\n",
      "Lowercase: vinay\n",
      "Capitalized: Vinay\n",
      "Replaced: ViNaY\n"
     ]
    }
   ],
   "source": [
    "# Original string\n",
    "name = \"ViNaY\"\n",
    "\n",
    "# Convert to uppercase\n",
    "upper_case_name = name.upper()\n",
    "print(\"Uppercase:\", upper_case_name)\n",
    "\n",
    "# Convert to lowercase\n",
    "lower_case_name = name.lower()\n",
    "print(\"Lowercase:\", lower_case_name)\n",
    "\n",
    "# Capitalize the string\n",
    "capitalized_name = name.capitalize()\n",
    "print(\"Capitalized:\", capitalized_name)\n",
    "\n",
    "# Replace 'e' with 'E'\n",
    "replaced_name = name.replace('e', 'E')\n",
    "print(\"Replaced:\", replaced_name)\n"
   ]
  },
  {
   "cell_type": "code",
   "execution_count": 6,
   "id": "29d925a1",
   "metadata": {},
   "outputs": [
    {
     "name": "stdout",
     "output_type": "stream",
     "text": [
      "Extended List: [1, 2, 3, 5, 6, 7]\n",
      "List after removing 5th value: [1, 2, 3, 5, 7]\n"
     ]
    }
   ],
   "source": [
    "# Original list\n",
    "L = [1, 2, 3]\n",
    "\n",
    "# Extend the list\n",
    "L.extend([5, 6, 7])\n",
    "print(\"Extended List:\", L)\n",
    "\n",
    "# Remove the 5th value (index 4)\n",
    "del L[4]\n",
    "print(\"List after removing 5th value:\", L)\n"
   ]
  },
  {
   "cell_type": "code",
   "execution_count": 7,
   "id": "e2855c45",
   "metadata": {},
   "outputs": [
    {
     "name": "stdout",
     "output_type": "stream",
     "text": [
      "Dictionary after removing out of stock fruits: {'mango': 10, 'apple': 15, 'pineapple': 20}\n",
      "Updated Mango Quantity: {'mango': 15, 'apple': 15, 'pineapple': 20}\n",
      "Decreased Pineapple Quantity: {'mango': 15, 'apple': 15, 'pineapple': 15}\n",
      "Popped Item: 15\n",
      "Dictionary after pop operation: {'mango': 15, 'pineapple': 15}\n"
     ]
    }
   ],
   "source": [
    "# Original dictionary\n",
    "d = {'mango': 10, 'banana': 0, 'apple': 15, 'orange': 0, 'pineapple': 20}\n",
    "\n",
    "# Remove out of stock fruits\n",
    "out_of_stock = [fruit for fruit, quantity in d.items() if quantity == 0]\n",
    "for fruit in out_of_stock:\n",
    "    del d[fruit]\n",
    "print(\"Dictionary after removing out of stock fruits:\", d)\n",
    "\n",
    "# Update mango quantity to 15\n",
    "d['mango'] = 15\n",
    "print(\"Updated Mango Quantity:\", d)\n",
    "\n",
    "# Decrease pineapple quantity by 5\n",
    "d['pineapple'] -= 5\n",
    "print(\"Decreased Pineapple Quantity:\", d)\n",
    "\n",
    "# Pop an item from dictionary\n",
    "popped_item = d.pop('apple')\n",
    "print(\"Popped Item:\", popped_item)\n",
    "print(\"Dictionary after pop operation:\", d)\n"
   ]
  },
  {
   "cell_type": "code",
   "execution_count": 8,
   "id": "44439bd5",
   "metadata": {},
   "outputs": [
    {
     "name": "stdout",
     "output_type": "stream",
     "text": [
      "Set after using remove: {1, 2, 4, 5}\n",
      "Popped Item: 1\n",
      "Set after pop operation: {2, 4, 5}\n",
      "Set after using discard: {4, 5}\n"
     ]
    }
   ],
   "source": [
    "# Original set\n",
    "s = {1, 2, 3, 4, 5}\n",
    "\n",
    "# Remove an item using remove\n",
    "s.remove(3)\n",
    "print(\"Set after using remove:\", s)\n",
    "\n",
    "# Pop an arbitrary item\n",
    "popped_item = s.pop()\n",
    "print(\"Popped Item:\", popped_item)\n",
    "print(\"Set after pop operation:\", s)\n",
    "\n",
    "# Discard an item\n",
    "s.discard(2)\n",
    "print(\"Set after using discard:\", s)"
   ]
  },
  {
   "cell_type": "code",
   "execution_count": null,
   "id": "afb8c55f",
   "metadata": {},
   "outputs": [],
   "source": []
  }
 ],
 "metadata": {
  "kernelspec": {
   "display_name": "Python 3 (ipykernel)",
   "language": "python",
   "name": "python3"
  },
  "language_info": {
   "codemirror_mode": {
    "name": "ipython",
    "version": 3
   },
   "file_extension": ".py",
   "mimetype": "text/x-python",
   "name": "python",
   "nbconvert_exporter": "python",
   "pygments_lexer": "ipython3",
   "version": "3.10.9"
  }
 },
 "nbformat": 4,
 "nbformat_minor": 5
}
