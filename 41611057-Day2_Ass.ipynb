{
 "cells": [
  {
   "cell_type": "code",
   "execution_count": 7,
   "id": "fcb6ac9c",
   "metadata": {},
   "outputs": [
    {
     "ename": "SyntaxError",
     "evalue": "cannot assign to expression here. Maybe you meant '==' instead of '='? (2061926529.py, line 2)",
     "output_type": "error",
     "traceback": [
      "\u001b[1;36m  Cell \u001b[1;32mIn[7], line 2\u001b[1;36m\u001b[0m\n\u001b[1;33m    first-name='shayam' #here special characters are not used\u001b[0m\n\u001b[1;37m    ^\u001b[0m\n\u001b[1;31mSyntaxError\u001b[0m\u001b[1;31m:\u001b[0m cannot assign to expression here. Maybe you meant '==' instead of '='?\n"
     ]
    }
   ],
   "source": [
    "from random import random\n",
    "first-name='shayam' #here special characters are not used"
   ]
  },
  {
   "cell_type": "code",
   "execution_count": 8,
   "id": "565d0da2",
   "metadata": {},
   "outputs": [],
   "source": [
    "firstname='shayam'"
   ]
  },
  {
   "cell_type": "code",
   "execution_count": 9,
   "id": "2440d664",
   "metadata": {},
   "outputs": [
    {
     "ename": "SyntaxError",
     "evalue": "invalid decimal literal (3208348270.py, line 1)",
     "output_type": "error",
     "traceback": [
      "\u001b[1;36m  Cell \u001b[1;32mIn[9], line 1\u001b[1;36m\u001b[0m\n\u001b[1;33m    1st = 'ram' #variable name should not start with an integer\u001b[0m\n\u001b[1;37m    ^\u001b[0m\n\u001b[1;31mSyntaxError\u001b[0m\u001b[1;31m:\u001b[0m invalid decimal literal\n"
     ]
    }
   ],
   "source": [
    "1st = 'ram' #variable name should not start with an integer"
   ]
  },
  {
   "cell_type": "code",
   "execution_count": 10,
   "id": "9e11be07",
   "metadata": {},
   "outputs": [],
   "source": [
    "st1 = 'ram'"
   ]
  },
  {
   "cell_type": "code",
   "execution_count": 11,
   "id": "74f44515",
   "metadata": {},
   "outputs": [
    {
     "name": "stdout",
     "output_type": "stream",
     "text": [
      "ram\n"
     ]
    }
   ],
   "source": [
    "print(st1)"
   ]
  },
  {
   "cell_type": "code",
   "execution_count": 12,
   "id": "a28fdb0e",
   "metadata": {},
   "outputs": [
    {
     "name": "stdout",
     "output_type": "stream",
     "text": [
      "\n",
      "Here is a list of the Python keywords.  Enter any keyword to get more help.\n",
      "\n",
      "False               class               from                or\n",
      "None                continue            global              pass\n",
      "True                def                 if                  raise\n",
      "and                 del                 import              return\n",
      "as                  elif                in                  try\n",
      "assert              else                is                  while\n",
      "async               except              lambda              with\n",
      "await               finally             nonlocal            yield\n",
      "break               for                 not                 \n",
      "\n"
     ]
    }
   ],
   "source": [
    "help('keywords')"
   ]
  },
  {
   "cell_type": "code",
   "execution_count": 13,
   "id": "cf6e535a",
   "metadata": {},
   "outputs": [
    {
     "data": {
      "text/plain": [
       "<function print>"
      ]
     },
     "execution_count": 13,
     "metadata": {},
     "output_type": "execute_result"
    }
   ],
   "source": [
    "print"
   ]
  },
  {
   "cell_type": "code",
   "execution_count": 14,
   "id": "dc83f50b",
   "metadata": {},
   "outputs": [
    {
     "data": {
      "text/plain": [
       "type"
      ]
     },
     "execution_count": 14,
     "metadata": {},
     "output_type": "execute_result"
    }
   ],
   "source": [
    "type"
   ]
  },
  {
   "cell_type": "code",
   "execution_count": 15,
   "id": "ec914048",
   "metadata": {},
   "outputs": [
    {
     "data": {
      "text/plain": [
       "<function dir>"
      ]
     },
     "execution_count": 15,
     "metadata": {},
     "output_type": "execute_result"
    }
   ],
   "source": [
    "dir"
   ]
  },
  {
   "cell_type": "code",
   "execution_count": 16,
   "id": "e1f129c3",
   "metadata": {},
   "outputs": [
    {
     "data": {
      "text/plain": [
       "<function sum(iterable, /, start=0)>"
      ]
     },
     "execution_count": 16,
     "metadata": {},
     "output_type": "execute_result"
    }
   ],
   "source": [
    "sum"
   ]
  },
  {
   "cell_type": "code",
   "execution_count": 17,
   "id": "1baaba11",
   "metadata": {},
   "outputs": [
    {
     "name": "stdout",
     "output_type": "stream",
     "text": [
      "This is an example of a snake case variable.\n"
     ]
    }
   ],
   "source": [
    "# Declare a variable named snake_case_variable\n",
    "snake_case_variable = \"This is an example of a snake case variable.\"\n",
    "\n",
    "# Print the value of snake_case_variable\n",
    "print(snake_case_variable)\n"
   ]
  },
  {
   "cell_type": "code",
   "execution_count": 21,
   "id": "fa2e946d",
   "metadata": {},
   "outputs": [],
   "source": [
    "def custom_upper(string):\n",
    "    return string.translate(str.maketrans(\"abcdefghijklmnopqrstuvwxyz\", \"ABCDEFGHIJKLMNOPQRSTUVWXYZ\"))\n",
    "\n",
    "def custom_lower(string):\n",
    "    return string.translate(str.maketrans(\"ABCDEFGHIJKLMNOPQRSTUVWXYZ\", \"abcdefghijklmnopqrstuvwxyz\"))"
   ]
  },
  {
   "cell_type": "code",
   "execution_count": 23,
   "id": "cbd49bf7",
   "metadata": {},
   "outputs": [],
   "source": [
    "test_string = \"Hello, World!\"\n",
    "upper_case_str = custom_upper(test_string)\n",
    "lower_case_str = custom_lower(test_string)"
   ]
  },
  {
   "cell_type": "code",
   "execution_count": 24,
   "id": "d6ed6db6",
   "metadata": {},
   "outputs": [
    {
     "name": "stdout",
     "output_type": "stream",
     "text": [
      "HELLO, WORLD!\n"
     ]
    }
   ],
   "source": [
    "print(upper_case_str)"
   ]
  },
  {
   "cell_type": "code",
   "execution_count": 25,
   "id": "021fa3ee",
   "metadata": {},
   "outputs": [
    {
     "name": "stdout",
     "output_type": "stream",
     "text": [
      "hello, world!\n"
     ]
    }
   ],
   "source": [
    "print(lower_case_str)"
   ]
  },
  {
   "cell_type": "code",
   "execution_count": 26,
   "id": "5fcd52dc",
   "metadata": {},
   "outputs": [
    {
     "name": "stdout",
     "output_type": "stream",
     "text": [
      "Odd sequence: [1, 65, 1, 65, 33, 87, 9]\n"
     ]
    }
   ],
   "source": [
    "# Given sequence\n",
    "sequence = [1, 2, 34, 65, 1, 2, 65, 66, 44, 33, 22, 87, 123412, 9, 78, 76]\n",
    "\n",
    "# Filter odd numbers\n",
    "odd_sequence = [num for num in sequence if num % 2 != 0]\n",
    "\n",
    "# Print the odd sequence\n",
    "print(\"Odd sequence:\", odd_sequence)\n"
   ]
  },
  {
   "cell_type": "code",
   "execution_count": 27,
   "id": "21793bcd",
   "metadata": {},
   "outputs": [],
   "source": [
    "# Given dictionary\n",
    "fruits_dict = {'apple': 10, 'mango': 20, 'pineapple': 25, 'orange': 30, 'strawberry': 50, 'jackfruit': 10}"
   ]
  },
  {
   "cell_type": "code",
   "execution_count": 28,
   "id": "21580ed1",
   "metadata": {},
   "outputs": [],
   "source": [
    "# Initialize an empty dictionary to store fruits with more than 20\n",
    "fruits = {}"
   ]
  },
  {
   "cell_type": "code",
   "execution_count": 29,
   "id": "e938e971",
   "metadata": {},
   "outputs": [],
   "source": [
    "# Iterate through the items in the dictionary\n",
    "for fruit, quantity in fruits_dict.items():\n",
    "    # Check if the quantity is more than 20\n",
    "    if quantity > 20:\n",
    "        # Add the fruit and its quantity to the fruits dictionary\n",
    "        fruits[fruit] = quantity"
   ]
  },
  {
   "cell_type": "code",
   "execution_count": 30,
   "id": "efe21e6a",
   "metadata": {},
   "outputs": [
    {
     "name": "stdout",
     "output_type": "stream",
     "text": [
      "Fruits with more than 20: {'pineapple': 25, 'orange': 30, 'strawberry': 50}\n"
     ]
    }
   ],
   "source": [
    "# Print the resulting dictionary\n",
    "print(\"Fruits with more than 20:\", fruits)"
   ]
  },
  {
   "cell_type": "code",
   "execution_count": null,
   "id": "858dc5b2",
   "metadata": {},
   "outputs": [],
   "source": []
  }
 ],
 "metadata": {
  "kernelspec": {
   "display_name": "Python 3 (ipykernel)",
   "language": "python",
   "name": "python3"
  },
  "language_info": {
   "codemirror_mode": {
    "name": "ipython",
    "version": 3
   },
   "file_extension": ".py",
   "mimetype": "text/x-python",
   "name": "python",
   "nbconvert_exporter": "python",
   "pygments_lexer": "ipython3",
   "version": "3.10.9"
  }
 },
 "nbformat": 4,
 "nbformat_minor": 5
}
