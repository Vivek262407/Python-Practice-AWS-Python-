{
 "cells": [
  {
   "cell_type": "code",
   "execution_count": 1,
   "id": "ab672c9d",
   "metadata": {},
   "outputs": [
    {
     "name": "stdout",
     "output_type": "stream",
     "text": [
      "Enter a number to check if it's a palindrome: 454\n",
      "454 is a palindrome.\n",
      "\n",
      "Enter the limit for Fibonacci series: 54\n",
      "\n",
      "Fibonacci series up to 54 : [0, 1, 1, 2, 3, 5, 8, 13, 21, 34]\n"
     ]
    }
   ],
   "source": [
    "def is_palindrome(num):\n",
    "    # Convert number to string to easily check for palindrome\n",
    "    num_str = str(num)\n",
    "    # Compare the string with its reverse\n",
    "    return num_str == num_str[::-1]\n",
    "\n",
    "def fibonacci_series(limit):\n",
    "    fib_series = []\n",
    "    # Initialize first two Fibonacci numbers\n",
    "    a, b = 0, 1\n",
    "    # Generate Fibonacci series up to the specified limit\n",
    "    while a <= limit:\n",
    "        fib_series.append(a)\n",
    "        a, b = b, a + b\n",
    "    return fib_series\n",
    "\n",
    "# Test the functions\n",
    "number = int(input(\"Enter a number to check if it's a palindrome: \"))\n",
    "if is_palindrome(number):\n",
    "    print(f\"{number} is a palindrome.\")\n",
    "else:\n",
    "    print(f\"{number} is not a palindrome.\")\n",
    "\n",
    "limit = int(input(\"\\nEnter the limit for Fibonacci series: \"))\n",
    "fib_series = fibonacci_series(limit)\n",
    "print(\"\\nFibonacci series up to\", limit, \":\", fib_series)\n"
   ]
  },
  {
   "cell_type": "code",
   "execution_count": null,
   "id": "438e5640",
   "metadata": {},
   "outputs": [
    {
     "name": "stdout",
     "output_type": "stream",
     "text": [
      "Welcome to the Cow and Bull Game!\n",
      "Try to guess the 4-digit number.\n",
      "Enter your guess: 5454\n",
      "Cows: 1, Bulls: 1\n",
      "Enter your guess: 5252\n",
      "Cows: 2, Bulls: 0\n",
      "Enter your guess: 8521\n",
      "Cows: 1, Bulls: 1\n",
      "Enter your guess: 8637\n",
      "Cows: 1, Bulls: 0\n"
     ]
    }
   ],
   "source": [
    "import random\n",
    "\n",
    "def cow_bull():\n",
    "    # Generate a random 4-digit number\n",
    "    number = str(random.randint(1000, 9999))\n",
    "    print(\"Welcome to the Cow and Bull Game!\")\n",
    "    print(\"Try to guess the 4-digit number.\")\n",
    "\n",
    "    attempts = 0\n",
    "    while True:\n",
    "        guess = input(\"Enter your guess: \")\n",
    "\n",
    "        # Check if the guess is valid\n",
    "        if not guess.isdigit() or len(guess) != 4:\n",
    "            print(\"Please enter a 4-digit number.\")\n",
    "            continue\n",
    "\n",
    "        attempts += 1\n",
    "        cows = 0\n",
    "        bulls = 0\n",
    "\n",
    "        # Check each digit of the guess\n",
    "        for i in range(4):\n",
    "            if guess[i] == number[i]:\n",
    "                bulls += 1\n",
    "            elif guess[i] in number:\n",
    "                cows += 1\n",
    "\n",
    "        # Print feedback\n",
    "        if bulls == 4:\n",
    "            print(\"Congratulations! You've guessed the number {} in {} attempts.\".format(number, attempts))\n",
    "            break\n",
    "        else:\n",
    "            print(\"Cows: {}, Bulls: {}\".format(cows, bulls))\n",
    "\n",
    "# Call the function to play the game\n",
    "cow_bull()\n"
   ]
  },
  {
   "cell_type": "code",
   "execution_count": null,
   "id": "66f90c07",
   "metadata": {},
   "outputs": [],
   "source": []
  }
 ],
 "metadata": {
  "kernelspec": {
   "display_name": "Python 3 (ipykernel)",
   "language": "python",
   "name": "python3"
  },
  "language_info": {
   "codemirror_mode": {
    "name": "ipython",
    "version": 3
   },
   "file_extension": ".py",
   "mimetype": "text/x-python",
   "name": "python",
   "nbconvert_exporter": "python",
   "pygments_lexer": "ipython3",
   "version": "3.10.9"
  }
 },
 "nbformat": 4,
 "nbformat_minor": 5
}
