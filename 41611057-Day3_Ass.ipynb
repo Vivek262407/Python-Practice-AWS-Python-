{
 "cells": [
  {
   "cell_type": "code",
   "execution_count": 2,
   "id": "6ee44035",
   "metadata": {},
   "outputs": [
    {
     "data": {
      "text/plain": [
       "'String Concatenation:\\nString concatenation in Python involves combining two or more strings into a single string. \\nThis is achieved using the + operator or the += augmented assignment operator. \\nWhen strings are concatenated, the characters from each string are combined to form a new string.'"
      ]
     },
     "execution_count": 2,
     "metadata": {},
     "output_type": "execute_result"
    }
   ],
   "source": [
    "'''String Concatenation:\n",
    "String concatenation in Python involves combining two or more strings into a single string. \n",
    "This is achieved using the + operator or the += augmented assignment operator. \n",
    "When strings are concatenated, the characters from each string are combined to form a new string.'''"
   ]
  },
  {
   "cell_type": "code",
   "execution_count": 3,
   "id": "0d83132f",
   "metadata": {},
   "outputs": [],
   "source": [
    "str1 = \"Hello\"\n",
    "str2 = \"World\"\n",
    "result = str1 + \", \" + str2 + \"!\""
   ]
  },
  {
   "cell_type": "code",
   "execution_count": 4,
   "id": "86111512",
   "metadata": {},
   "outputs": [
    {
     "name": "stdout",
     "output_type": "stream",
     "text": [
      "Hello, World!\n"
     ]
    }
   ],
   "source": [
    "print(result)"
   ]
  },
  {
   "cell_type": "code",
   "execution_count": 5,
   "id": "c7a025ad",
   "metadata": {},
   "outputs": [
    {
     "data": {
      "text/plain": [
       "'List Concatenation:\\nList concatenation in Python involves merging two or more lists into a single list. \\nThis can be done using the + operator. When lists are concatenated, \\nthe elements from each list are combined to form a new list.'"
      ]
     },
     "execution_count": 5,
     "metadata": {},
     "output_type": "execute_result"
    }
   ],
   "source": [
    "'''List Concatenation:\n",
    "List concatenation in Python involves merging two or more lists into a single list. \n",
    "This can be done using the + operator. When lists are concatenated, \n",
    "the elements from each list are combined to form a new list.'''"
   ]
  },
  {
   "cell_type": "code",
   "execution_count": 6,
   "id": "60f8e204",
   "metadata": {},
   "outputs": [],
   "source": [
    "list1 = [1, 2, 3]\n",
    "list2 = [4, 5, 6]\n",
    "result = list1 + list2"
   ]
  },
  {
   "cell_type": "code",
   "execution_count": 7,
   "id": "6e1a1ef1",
   "metadata": {},
   "outputs": [
    {
     "name": "stdout",
     "output_type": "stream",
     "text": [
      "[1, 2, 3, 4, 5, 6]\n"
     ]
    }
   ],
   "source": [
    "print(result)"
   ]
  },
  {
   "cell_type": "code",
   "execution_count": 8,
   "id": "8827f6ce",
   "metadata": {},
   "outputs": [
    {
     "data": {
      "text/plain": [
       "'Tuple Concatenation:\\nTuple concatenation in Python involves joining two or more tuples into a single tuple. \\nThis can be done using the + operator. \\nWhen tuples are concatenated, the elements from each tuple are combined to form a new tuple.'"
      ]
     },
     "execution_count": 8,
     "metadata": {},
     "output_type": "execute_result"
    }
   ],
   "source": [
    "'''Tuple Concatenation:\n",
    "Tuple concatenation in Python involves joining two or more tuples into a single tuple. \n",
    "This can be done using the + operator. \n",
    "When tuples are concatenated, the elements from each tuple are combined to form a new tuple.'''"
   ]
  },
  {
   "cell_type": "code",
   "execution_count": 9,
   "id": "7cc5cee2",
   "metadata": {},
   "outputs": [],
   "source": [
    "tuple1 = (1, 2, 3)\n",
    "tuple2 = (4, 5, 6)\n",
    "result = tuple1 + tuple2"
   ]
  },
  {
   "cell_type": "code",
   "execution_count": 10,
   "id": "1116b639",
   "metadata": {},
   "outputs": [
    {
     "name": "stdout",
     "output_type": "stream",
     "text": [
      "(1, 2, 3, 4, 5, 6)\n"
     ]
    }
   ],
   "source": [
    "print(result)"
   ]
  },
  {
   "cell_type": "code",
   "execution_count": 11,
   "id": "91300a63",
   "metadata": {},
   "outputs": [],
   "source": [
    "#formating types and its each example \n",
    "# Positional Formatting"
   ]
  },
  {
   "cell_type": "code",
   "execution_count": 12,
   "id": "01156e09",
   "metadata": {},
   "outputs": [
    {
     "name": "stdout",
     "output_type": "stream",
     "text": [
      "My name is Alice, and I am 30 years old.\n"
     ]
    }
   ],
   "source": [
    "name = \"Alice\"\n",
    "age = 30\n",
    "sentence = \"My name is {}, and I am {} years old.\".format(name, age)\n",
    "print(sentence)"
   ]
  },
  {
   "cell_type": "code",
   "execution_count": 13,
   "id": "1dcb4c57",
   "metadata": {},
   "outputs": [],
   "source": [
    "#Keyword Formatting"
   ]
  },
  {
   "cell_type": "code",
   "execution_count": 14,
   "id": "22075182",
   "metadata": {},
   "outputs": [
    {
     "name": "stdout",
     "output_type": "stream",
     "text": [
      "My name is Bob, and I am 25 years old.\n"
     ]
    }
   ],
   "source": [
    "name = \"Bob\"\n",
    "age = 25\n",
    "sentence = \"My name is {name}, and I am {age} years old.\".format(name=name, age=age)\n",
    "print(sentence)"
   ]
  },
  {
   "cell_type": "code",
   "execution_count": 15,
   "id": "5d5b90f1",
   "metadata": {},
   "outputs": [],
   "source": [
    "#f-Strings (Literal String Interpolation)"
   ]
  },
  {
   "cell_type": "code",
   "execution_count": 16,
   "id": "5c17cf77",
   "metadata": {},
   "outputs": [
    {
     "name": "stdout",
     "output_type": "stream",
     "text": [
      "My name is Charlie, and I am 35 years old.\n"
     ]
    }
   ],
   "source": [
    "name = \"Charlie\"\n",
    "age = 35\n",
    "sentence = f\"My name is {name}, and I am {age} years old.\"\n",
    "print(sentence)"
   ]
  },
  {
   "cell_type": "code",
   "execution_count": 17,
   "id": "5e23c6ba",
   "metadata": {},
   "outputs": [],
   "source": [
    "# % Formatting (Old Style Formatting)"
   ]
  },
  {
   "cell_type": "code",
   "execution_count": 18,
   "id": "f175fbed",
   "metadata": {},
   "outputs": [
    {
     "name": "stdout",
     "output_type": "stream",
     "text": [
      "My name is David, and I am 40 years old.\n"
     ]
    }
   ],
   "source": [
    "name = \"David\"\n",
    "age = 40\n",
    "sentence = \"My name is %s, and I am %d years old.\" % (name, age)\n",
    "print(sentence)"
   ]
  },
  {
   "cell_type": "code",
   "execution_count": 19,
   "id": "e7138482",
   "metadata": {},
   "outputs": [],
   "source": [
    "#Arithematic Opeartor"
   ]
  },
  {
   "cell_type": "code",
   "execution_count": 20,
   "id": "fab366be",
   "metadata": {},
   "outputs": [
    {
     "name": "stdout",
     "output_type": "stream",
     "text": [
      "Addition: 8\n"
     ]
    }
   ],
   "source": [
    "# Addition\n",
    "a = 5\n",
    "b = 3\n",
    "result = a + b\n",
    "print(\"Addition:\", result)"
   ]
  },
  {
   "cell_type": "code",
   "execution_count": 23,
   "id": "2437ffe2",
   "metadata": {},
   "outputs": [
    {
     "name": "stdout",
     "output_type": "stream",
     "text": [
      "Subtraction: 5\n"
     ]
    }
   ],
   "source": [
    "# Subtraction\n",
    "a = 8\n",
    "b = 3\n",
    "result = a - b\n",
    "print(\"Subtraction:\", result)"
   ]
  },
  {
   "cell_type": "code",
   "execution_count": 24,
   "id": "7c3c89dd",
   "metadata": {},
   "outputs": [
    {
     "name": "stdout",
     "output_type": "stream",
     "text": [
      "Multiplication: 24\n"
     ]
    }
   ],
   "source": [
    "# Multiplication\n",
    "a = 4\n",
    "b = 6\n",
    "result = a * b\n",
    "print(\"Multiplication:\", result)"
   ]
  },
  {
   "cell_type": "code",
   "execution_count": 25,
   "id": "8af459fa",
   "metadata": {},
   "outputs": [
    {
     "name": "stdout",
     "output_type": "stream",
     "text": [
      "Division: 5.0\n"
     ]
    }
   ],
   "source": [
    "# Division\n",
    "a = 10\n",
    "b = 2\n",
    "result = a / b\n",
    "print(\"Division:\", result)"
   ]
  },
  {
   "cell_type": "code",
   "execution_count": 26,
   "id": "86fc29d7",
   "metadata": {},
   "outputs": [
    {
     "name": "stdout",
     "output_type": "stream",
     "text": [
      "Floor Division: 3\n"
     ]
    }
   ],
   "source": [
    "# Floor Division\n",
    "a = 10\n",
    "b = 3\n",
    "result = a // b\n",
    "print(\"Floor Division:\", result)"
   ]
  },
  {
   "cell_type": "code",
   "execution_count": 28,
   "id": "92570a33",
   "metadata": {},
   "outputs": [
    {
     "name": "stdout",
     "output_type": "stream",
     "text": [
      "Modulo Division: 1\n"
     ]
    }
   ],
   "source": [
    "# Modulo Division\n",
    "a = 10\n",
    "b = 3\n",
    "result = a % b\n",
    "print(\"Modulo Division:\", result)"
   ]
  },
  {
   "cell_type": "code",
   "execution_count": 29,
   "id": "4c49c9f8",
   "metadata": {},
   "outputs": [
    {
     "name": "stdout",
     "output_type": "stream",
     "text": [
      "Exponentiation: 8\n"
     ]
    }
   ],
   "source": [
    "# Exponentiation\n",
    "a = 2\n",
    "b = 3\n",
    "result = a ** b\n",
    "print(\"Exponentiation:\", result)"
   ]
  },
  {
   "cell_type": "code",
   "execution_count": 30,
   "id": "0dac312f",
   "metadata": {},
   "outputs": [],
   "source": [
    "#Example for assignment operators (except: = & +=)"
   ]
  },
  {
   "cell_type": "code",
   "execution_count": 31,
   "id": "2b6d8f41",
   "metadata": {},
   "outputs": [
    {
     "name": "stdout",
     "output_type": "stream",
     "text": [
      "Subtraction Assignment: 7\n"
     ]
    }
   ],
   "source": [
    "# Subtraction Assignment\n",
    "x = 10\n",
    "x -= 3\n",
    "print(\"Subtraction Assignment:\", x)"
   ]
  },
  {
   "cell_type": "code",
   "execution_count": 32,
   "id": "fadf295c",
   "metadata": {},
   "outputs": [
    {
     "name": "stdout",
     "output_type": "stream",
     "text": [
      "Multiplication Assignment: 20\n"
     ]
    }
   ],
   "source": [
    "# Multiplication Assignment\n",
    "x = 5\n",
    "x *= 4\n",
    "print(\"Multiplication Assignment:\", x)"
   ]
  },
  {
   "cell_type": "code",
   "execution_count": 33,
   "id": "6c77c3aa",
   "metadata": {},
   "outputs": [
    {
     "name": "stdout",
     "output_type": "stream",
     "text": [
      "Division Assignment: 4.0\n"
     ]
    }
   ],
   "source": [
    "# Division Assignment\n",
    "x = 20\n",
    "x /= 5\n",
    "print(\"Division Assignment:\", x)"
   ]
  },
  {
   "cell_type": "code",
   "execution_count": 34,
   "id": "5aaab5a3",
   "metadata": {},
   "outputs": [
    {
     "name": "stdout",
     "output_type": "stream",
     "text": [
      "Floor Division Assignment: 6\n"
     ]
    }
   ],
   "source": [
    "# Floor Division Assignment\n",
    "x = 20\n",
    "x //= 3\n",
    "print(\"Floor Division Assignment:\", x)"
   ]
  },
  {
   "cell_type": "code",
   "execution_count": 35,
   "id": "05519a27",
   "metadata": {},
   "outputs": [
    {
     "name": "stdout",
     "output_type": "stream",
     "text": [
      "Modulo Assignment: 1\n"
     ]
    }
   ],
   "source": [
    "# Modulo Assignment\n",
    "x = 10\n",
    "x %= 3\n",
    "print(\"Modulo Assignment:\", x)"
   ]
  },
  {
   "cell_type": "code",
   "execution_count": 36,
   "id": "b38edbfa",
   "metadata": {},
   "outputs": [
    {
     "name": "stdout",
     "output_type": "stream",
     "text": [
      "Exponentiation Assignment: 8\n"
     ]
    }
   ],
   "source": [
    "# Exponentiation Assignment\n",
    "x = 2\n",
    "x **= 3\n",
    "print(\"Exponentiation Assignment:\", x)"
   ]
  },
  {
   "cell_type": "code",
   "execution_count": null,
   "id": "7a18e573",
   "metadata": {},
   "outputs": [],
   "source": []
  }
 ],
 "metadata": {
  "kernelspec": {
   "display_name": "Python 3 (ipykernel)",
   "language": "python",
   "name": "python3"
  },
  "language_info": {
   "codemirror_mode": {
    "name": "ipython",
    "version": 3
   },
   "file_extension": ".py",
   "mimetype": "text/x-python",
   "name": "python",
   "nbconvert_exporter": "python",
   "pygments_lexer": "ipython3",
   "version": "3.10.9"
  }
 },
 "nbformat": 4,
 "nbformat_minor": 5
}
